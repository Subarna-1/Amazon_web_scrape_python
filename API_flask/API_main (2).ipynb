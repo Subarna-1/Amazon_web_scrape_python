{
 "cells": [
  {
   "cell_type": "code",
   "execution_count": null,
   "metadata": {},
   "outputs": [],
   "source": [
    "#API"
   ]
  },
  {
   "cell_type": "code",
   "execution_count": 1,
   "metadata": {},
   "outputs": [
    {
     "name": "stdout",
     "output_type": "stream",
     "text": [
      "Requirement already satisfied: autoscraper in c:\\users\\kiit\\anaconda3\\lib\\site-packages (1.1.14)\n",
      "Requirement already satisfied: requests in c:\\users\\kiit\\anaconda3\\lib\\site-packages (from autoscraper) (2.24.0)\n",
      "Requirement already satisfied: bs4 in c:\\users\\kiit\\anaconda3\\lib\\site-packages (from autoscraper) (0.0.1)\n",
      "Note: you may need to restart the kernel to use updated packages.\n",
      "Requirement already satisfied: lxml in c:\\users\\kiit\\anaconda3\\lib\\site-packages (from autoscraper) (4.6.1)\n",
      "Requirement already satisfied: beautifulsoup4 in c:\\users\\kiit\\anaconda3\\lib\\site-packages (from bs4->autoscraper) (4.9.3)\n",
      "Requirement already satisfied: chardet<4,>=3.0.2 in c:\\users\\kiit\\anaconda3\\lib\\site-packages (from requests->autoscraper) (3.0.4)\n",
      "Requirement already satisfied: idna<3,>=2.5 in c:\\users\\kiit\\anaconda3\\lib\\site-packages (from requests->autoscraper) (2.10)\n",
      "Requirement already satisfied: urllib3!=1.25.0,!=1.25.1,<1.26,>=1.21.1 in c:\\users\\kiit\\anaconda3\\lib\\site-packages (from requests->autoscraper) (1.25.11)\n",
      "Requirement already satisfied: certifi>=2017.4.17 in c:\\users\\kiit\\anaconda3\\lib\\site-packages (from requests->autoscraper) (2020.6.20)\n",
      "Requirement already satisfied: soupsieve>1.2 in c:\\users\\kiit\\anaconda3\\lib\\site-packages (from beautifulsoup4->bs4->autoscraper) (2.0.1)\n"
     ]
    }
   ],
   "source": [
    "pip install autoscraper"
   ]
  },
  {
   "cell_type": "code",
   "execution_count": 3,
   "metadata": {},
   "outputs": [],
   "source": [
    "from autoscraper import AutoScraper\n",
    "from flask import Flask, request"
   ]
  },
  {
   "cell_type": "code",
   "execution_count": 4,
   "metadata": {},
   "outputs": [
    {
     "name": "stdout",
     "output_type": "stream",
     "text": [
      "{'rule_5ixw': ['₹53,999', '₹59,900', '₹66,999', '₹94,900', '₹74,900', '₹80,900', '₹2,499', '₹2,999', '₹71,999', '₹79,900', '₹71,999', '₹79,900', '₹18,999', '₹19,999', '₹28,999', '₹24,999', '₹34,999', '₹61,999', '₹69,900', '₹34,999', '₹38,999', '₹71,999', '₹79,900', '₹40,999', '₹49,900', '₹40,999', '₹54,900', '₹1,29,900', '₹79,999', '₹89,900'], 'rule_unf9': ['₹53,999', '₹59,900', '₹66,999', '₹94,900', '₹74,900', '₹80,900', '₹2,499', '₹2,999', '₹71,999', '₹79,900', '₹71,999', '₹79,900', '₹18,999', '₹19,999', '₹28,999', '₹24,999', '₹34,999', '₹61,999', '₹69,900', '₹34,999', '₹38,999', '₹71,999', '₹79,900', '₹40,999', '₹49,900', '₹40,999', '₹54,900', '₹1,29,900', '₹79,999', '₹89,900'], 'rule_v16m': ['Apple iPhone 12 (64GB) - (Product) RED', 'Apple iPhone 12 (256GB) - Purple', 'Apple iPhone 12 (256GB) - White', 'Camera Privacy Covers Compatible for iPhone 12 Pro Max DNGN Slide Cover Protect Camera Lens, Hybrid TPU Bumper PC Case for iphone12 Pro Max (Green)', 'Apple iPhone 14 (128 GB) - Blue', 'Apple iPhone 14 (128 GB) - Midnight', 'OnePlus Nord CE 2 Lite 5G (Black Dusk, 6GB RAM, 128GB Storage)', 'OnePlus Nord 2T 5G (Jade Fog, 8GB RAM, 128GB Storage)', 'iQOO Neo 6 5G (Dark Nova, 8GB RAM, 128GB Storage) | Only Snapdragon 870 in The Segment | 50% Charge in Just 12 Mins | 90 FPS Gaming Support*', 'Apple iPhone 13 (128GB) - (Product) RED', 'OnePlus 10R 5G (Forest Green, 8GB RAM, 128GB Storage, 80W SuperVOOC)', 'Apple iPhone 14 (128 GB) - Starlight', 'Apple iPhone 11 (64GB) - White', 'Apple iPhone 11 (64GB) - Black', 'Apple iPhone 12 Pro Max (256GB) - Graphite', 'Apple iPhone 14 Plus (128 GB) - Purple'], 'rule_9aoz': ['Apple iPhone 12 (64GB) - (Product) RED', 'Apple iPhone 12 (256GB) - Purple', 'Apple iPhone 12 (256GB) - White', 'Camera Privacy Covers Compatible for iPhone 12 Pro Max DNGN Slide Cover Protect Camera Lens, Hybrid TPU Bumper PC Case for...', 'Apple iPhone 14 (128 GB) - Blue', 'Apple iPhone 14 (128 GB) - Midnight', 'OnePlus Nord CE 2 Lite 5G (Black Dusk, 6GB RAM, 128GB Storage)', 'OnePlus Nord 2T 5G (Jade Fog, 8GB RAM, 128GB Storage)', 'iQOO Neo 6 5G (Dark Nova, 8GB RAM, 128GB Storage) | Only Snapdragon 870 in The Segment | 50% Charge in Just 12 Mins | 90 F...', 'Apple iPhone 13 (128GB) - (Product) RED', 'OnePlus 10R 5G (Forest Green, 8GB RAM, 128GB Storage, 80W SuperVOOC)', 'Apple iPhone 14 (128 GB) - Starlight', 'Apple iPhone 11 (64GB) - White', 'Apple iPhone 11 (64GB) - Black', 'Apple iPhone 12 Pro Max (256GB) - Graphite', 'Apple iPhone 14 Plus (128 GB) - Purple']}\n"
     ]
    }
   ],
   "source": [
    "from autoscraper import AutoScraper\n",
    "\n",
    "url=\"https://www.amazon.in/s?k=iphone12\"\n",
    "\n",
    "wanted =[\"₹53,999\",\"Apple iPhone 12 (64GB) - (Product) RED\"]\n",
    "\n",
    "scraper=AutoScraper()\n",
    "\n",
    "result=scraper.build(url,wanted)\n",
    "\n",
    "print(scraper.get_result_similar(url,grouped=True)) "
   ]
  },
  {
   "cell_type": "code",
   "execution_count": 6,
   "metadata": {},
   "outputs": [],
   "source": [
    "scraper.set_rule_aliases({'rule_v16m':'Title','rule_5ixw':'Price'})\n",
    "scraper.keep_rules(['rule_v16m','rule_5ixw'])\n",
    "scraper.save('amazon_search_file')"
   ]
  },
  {
   "cell_type": "code",
   "execution_count": 7,
   "metadata": {},
   "outputs": [],
   "source": [
    "amazon_scraper = AutoScraper()\n",
    "amazon_scraper.load('amazon_search_file')\n",
    "app = Flask(__name__)"
   ]
  },
  {
   "cell_type": "code",
   "execution_count": 8,
   "metadata": {},
   "outputs": [],
   "source": [
    "def _aggregate_result(result):\n",
    "    final_result = []\n",
    "    print(list(result.values())[0])\n",
    "    for i in range(len(list(result.values())[0])):\n",
    "        try:\n",
    "            final_result.append({alias: result[alias][i] for alias in result})\n",
    "        except:\n",
    "            pass\n",
    "    return final_result\n",
    "\n",
    "def get_amazon_result(search_query):\n",
    "    url = 'https://www.amazon.in/s?k=%s' % search_query\n",
    "    result = amazon_scraper.get_result_similar(url, group_by_alias=True)\n",
    "    return _aggregate_result(result)"
   ]
  },
  {
   "cell_type": "code",
   "execution_count": 9,
   "metadata": {},
   "outputs": [
    {
     "name": "stdout",
     "output_type": "stream",
     "text": [
      " * Serving Flask app \"__main__\" (lazy loading)\n",
      " * Environment: production\n",
      "   WARNING: This is a development server. Do not use it in a production deployment.\n",
      "   Use a production WSGI server instead.\n",
      " * Debug mode: off\n"
     ]
    },
    {
     "name": "stderr",
     "output_type": "stream",
     "text": [
      " * Running on http://127.0.0.1:8080/ (Press CTRL+C to quit)\n"
     ]
    },
    {
     "name": "stdout",
     "output_type": "stream",
     "text": [
      "iphones\n"
     ]
    },
    {
     "name": "stderr",
     "output_type": "stream",
     "text": [
      "127.0.0.1 - - [23/Apr/2023 15:50:39] \"\u001b[37mGET /?q=iphones HTTP/1.1\u001b[0m\" 200 -\n"
     ]
    },
    {
     "name": "stdout",
     "output_type": "stream",
     "text": [
      "['₹71,999', '₹79,900', '₹1,37,999', '₹1,49,900', '₹71,999', '₹79,900', '₹61,999', '₹69,900', '₹79,999', '₹89,900', '₹1,19,999', '₹1,29,900', '₹71,999', '₹79,900', '₹40,999', '₹54,900', '₹17,999', '₹29,999', '₹66,999', '₹94,900', '₹71,999', '₹79,900', '₹61,999', '₹69,900', '₹1,39,900', '₹12,799', '₹24,999', '₹79,999', '₹89,900', '₹1,27,999', '₹1,39,900']\n"
     ]
    },
    {
     "name": "stderr",
     "output_type": "stream",
     "text": [
      "127.0.0.1 - - [23/Apr/2023 15:50:40] \"\u001b[33mGET /favicon.ico HTTP/1.1\u001b[0m\" 404 -\n"
     ]
    }
   ],
   "source": [
    "@app.route('/', methods=['GET'])\n",
    "def search_api():\n",
    "    query = request.args.get('q')\n",
    "    print(query)\n",
    "    return dict(result=get_amazon_result(query))\n",
    "\n",
    "if __name__ == '__main__':\n",
    "    app.run(port=8080, host='127.0.0.1')"
   ]
  },
  {
   "cell_type": "code",
   "execution_count": null,
   "metadata": {},
   "outputs": [],
   "source": []
  }
 ],
 "metadata": {
  "kernelspec": {
   "display_name": "Python 3",
   "language": "python",
   "name": "python3"
  },
  "language_info": {
   "codemirror_mode": {
    "name": "ipython",
    "version": 3
   },
   "file_extension": ".py",
   "mimetype": "text/x-python",
   "name": "python",
   "nbconvert_exporter": "python",
   "pygments_lexer": "ipython3",
   "version": "3.8.5"
  }
 },
 "nbformat": 4,
 "nbformat_minor": 4
}
